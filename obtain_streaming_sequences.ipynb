{
 "cells": [
  {
   "cell_type": "markdown",
   "metadata": {},
   "source": [
    "# How to Obtain Streaming Sequences?\n",
    "Using the `DS-1000` dataset as an example"
   ]
  },
  {
   "cell_type": "code",
   "execution_count": 3,
   "metadata": {},
   "outputs": [],
   "source": [
    "from stream_bench.benchmarks.ds_1000 import DS1000\n",
    "\n",
    "seed = 42  # other five seeds are 2, 3, 7, 21, 42\n",
    "ds1000 = DS1000(seed=seed)"
   ]
  },
  {
   "cell_type": "code",
   "execution_count": 4,
   "metadata": {},
   "outputs": [
    {
     "data": {
      "text/plain": [
       "Dataset({\n",
       "    features: ['prompt', 'reference_code', 'metadata', 'code_context'],\n",
       "    num_rows: 1000\n",
       "})"
      ]
     },
     "execution_count": 4,
     "metadata": {},
     "output_type": "execute_result"
    }
   ],
   "source": [
    "dataset = ds1000.get_dataset()  # see the implementation of get_dataset() in DS1000\n",
    "dataset  # the rows in the dataset are now in the correct order"
   ]
  },
  {
   "cell_type": "code",
   "execution_count": 6,
   "metadata": {},
   "outputs": [
    {
     "name": "stdout",
     "output_type": "stream",
     "text": [
      "Time step: 0\n",
      "{'prompt': \"Problem:\\n\\nI have a logistic regression model using Pytorch, where my input is high-dimensional and my output must be a scalar - 0, 1 or 2.\\n\\nI'm using a linear layer combined with a softmax layer to return a n x 3 tensor, where each column represents the probability of the input falling in one of the three classes (0, 1 or 2).\\n\\nHowever, I must return a 1 x n tensor, and I want to somehow pick the lowest probability for each input and create a tensor indicating which class had the lowest probability. How can I achieve this using Pytorch?\\n\\nTo illustrate, my Softmax outputs this:\\n\\n[[0.2, 0.1, 0.7],\\n [0.6, 0.3, 0.1],\\n [0.15, 0.8, 0.05]]\\nAnd I must return this:\\n\\n[1, 2, 2], which has the type torch.LongTensor\\n\\n\\nA:\\n\\n<code>\\nimport numpy as np\\nimport pandas as pd\\nimport torch\\nsoftmax_output = load_data()\\ndef solve(softmax_output):\\n</code>\\ny = ... # put solution in this variable\\nBEGIN SOLUTION\\n<code>\\n\", 'reference_code': '# def solve(softmax_output):\\n    ### BEGIN SOLUTION\\n    y = torch.argmin(softmax_output, dim=1).detach()\\n    ### END SOLUTION\\n    # return y\\n# y = solve(softmax_output)\\n', 'metadata': {'problem_id': 978, 'library_problem_id': 46, 'library': 'Pytorch', 'test_case_cnt': 2, 'perturbation_type': 'Difficult-Rewrite', 'perturbation_origin_id': 42}, 'code_context': 'import torch\\nimport copy\\n\\n\\ndef generate_test_case(test_case_id):\\n    def define_test_input(test_case_id):\\n        if test_case_id == 1:\\n            softmax_output = torch.FloatTensor(\\n                [[0.2, 0.1, 0.7], [0.6, 0.1, 0.3], [0.4, 0.5, 0.1]]\\n            )\\n        elif test_case_id == 2:\\n            softmax_output = torch.FloatTensor(\\n                [[0.7, 0.2, 0.1], [0.3, 0.6, 0.1], [0.05, 0.15, 0.8], [0.25, 0.35, 0.4]]\\n            )\\n        return softmax_output\\n\\n    def generate_ans(data):\\n        softmax_output = data\\n        y = torch.argmin(softmax_output, dim=1).detach()\\n        return y\\n\\n    test_input = define_test_input(test_case_id)\\n    expected_result = generate_ans(copy.deepcopy(test_input))\\n    return test_input, expected_result\\n\\n\\ndef exec_test(result, ans):\\n    try:\\n        assert result.type() == \"torch.LongTensor\"\\n        torch.testing.assert_close(result, ans)\\n        return 1\\n    except:\\n        return 0\\n\\n\\nexec_context = r\"\"\"\\nimport numpy as np\\nimport pandas as pd\\nimport torch\\nsoftmax_output = test_input\\ndef solve(softmax_output):\\n[insert]\\n    return y\\ny = solve(softmax_output)\\nresult = y\\n\"\"\"\\n\\n\\ndef test_execution(solution: str):\\n    code = exec_context.replace(\"[insert]\", solution)\\n    for i in range(2):\\n        test_input, expected_result = generate_test_case(i + 1)\\n        test_env = {\"test_input\": test_input}\\n        exec(code, test_env)\\n        assert exec_test(test_env[\"result\"], expected_result)\\n'}\n"
     ]
    }
   ],
   "source": [
    "for time_step, row in enumerate(dataset):\n",
    "    print(f\"Time step: {time_step}\")\n",
    "    print(row)\n",
    "    break"
   ]
  }
 ],
 "metadata": {
  "kernelspec": {
   "display_name": "sbfinal",
   "language": "python",
   "name": "python3"
  },
  "language_info": {
   "codemirror_mode": {
    "name": "ipython",
    "version": 3
   },
   "file_extension": ".py",
   "mimetype": "text/x-python",
   "name": "python",
   "nbconvert_exporter": "python",
   "pygments_lexer": "ipython3",
   "version": "3.10.14"
  }
 },
 "nbformat": 4,
 "nbformat_minor": 2
}
